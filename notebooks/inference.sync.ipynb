{
 "cells": [
  {
   "cell_type": "code",
   "execution_count": 2,
   "id": "a5169d12",
   "metadata": {},
   "outputs": [
    {
     "name": "stdout",
     "output_type": "stream",
     "text": [
      "The autoreload extension is already loaded. To reload it, use:\n",
      "  %reload_ext autoreload\n"
     ]
    },
    {
     "data": {
      "text/html": [
       "\n",
       "<style>\n",
       "div.input_area {\n",
       "    overflow: hidden !important; /* Hide the whole input area */\n",
       "    line-height: 1em; /* Define a height for one line */\n",
       "    max-height: 3.5em; /* Show only the first line */\n",
       "}\n",
       "</style>\n"
      ],
      "text/plain": [
       "<IPython.core.display.HTML object>"
      ]
     },
     "metadata": {},
     "output_type": "display_data"
    }
   ],
   "source": [
    "#set notebook style\n",
    "\n",
    "%load_ext autoreload\n",
    "%autoreload 2\n",
    "from IPython.display import display, HTML\n",
    "\n",
    "css = \"\"\"\n",
    "<style>\n",
    "div.input_area {\n",
    "    overflow: hidden !important; /* Hide the whole input area */\n",
    "    line-height: 1em; /* Define a height for one line */\n",
    "    max-height: 3.5em; /* Show only the first line */\n",
    "}\n",
    "</style>\n",
    "\"\"\"\n",
    "display(HTML(css))"
   ]
  },
  {
   "cell_type": "code",
   "execution_count": null,
   "id": "148ab68d",
   "metadata": {},
   "outputs": [],
   "source": []
  }
 ],
 "metadata": {
  "kernelspec": {
   "display_name": "Python 3 (ipykernel)",
   "language": "python",
   "name": "python3"
  },
  "language_info": {
   "codemirror_mode": {
    "name": "ipython",
    "version": 3
   },
   "file_extension": ".py",
   "mimetype": "text/x-python",
   "name": "python",
   "nbconvert_exporter": "python",
   "pygments_lexer": "ipython3",
   "version": "3.11.7"
  }
 },
 "nbformat": 4,
 "nbformat_minor": 5
}
